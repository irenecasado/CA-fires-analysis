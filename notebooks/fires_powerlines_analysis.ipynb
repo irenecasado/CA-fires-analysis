{
 "cells": [
  {
   "cell_type": "markdown",
   "id": "903aadd9-63f9-413e-9701-cd850282344a",
   "metadata": {},
   "source": [
    "# CA Wildfire Caused by Power Lines\n",
    "\n",
    "After requesting data from Cal Fire on powerline related fires, the department provided a database of all incidents that occurred between 2012 and 2021.\n",
    "\n",
    "The objective of this notebook is to analyze this database in search of details about the size of the issue. \n",
    "\n",
    "Questions:\n",
    "- How many power lines related wildfires have occurred in the last 10 years?\n",
    "- How many per year? \n",
    "- What was the worst year?\n",
    "- How many acres have been burned each year due to power lines incidents?\n",
    "- How many lives have been lost?\n",
    "- What is the cost of these fires?"
   ]
  },
  {
   "cell_type": "markdown",
   "id": "be67dd38-e572-4b8b-93e1-f119af27cd59",
   "metadata": {},
   "source": [
    "### Configuration:\n",
    "\n",
    "Let's begin by importing the Python tools necessary for the analysis."
   ]
  },
  {
   "cell_type": "code",
   "execution_count": 346,
   "id": "2434b861-60a8-4a56-8869-59fa90c1b290",
   "metadata": {},
   "outputs": [],
   "source": [
    "import pandas as pd\n",
    "import altair as alt\n",
    "import datetime"
   ]
  },
  {
   "cell_type": "markdown",
   "id": "0c675610-5110-4dcd-b844-1ced874be6c4",
   "metadata": {},
   "source": [
    "Import Cal Fire Dataset:"
   ]
  },
  {
   "cell_type": "code",
   "execution_count": 347,
   "id": "38c0734d-773f-40d4-aa68-69f2f3ba18e3",
   "metadata": {},
   "outputs": [],
   "source": [
    "powerlines_fires = pd.read_csv(\"All_CA_WLFires_Powerlines.csv\") # Import data"
   ]
  },
  {
   "cell_type": "code",
   "execution_count": 348,
   "id": "b7ac54c7-fd79-499c-9227-fceb29dda890",
   "metadata": {},
   "outputs": [
    {
     "name": "stdout",
     "output_type": "stream",
     "text": [
      "<class 'pandas.core.frame.DataFrame'>\n",
      "RangeIndex: 3067 entries, 0 to 3066\n",
      "Data columns (total 9 columns):\n",
      " #   Column                          Non-Null Count  Dtype  \n",
      "---  ------                          --------------  -----  \n",
      " 0   FDID                            3067 non-null   int64  \n",
      " 1   Inc date                        3067 non-null   object \n",
      " 2   Inc Number                      3067 non-null   object \n",
      " 3   Address                         3067 non-null   object \n",
      " 4   Total Loss                      3067 non-null   float64\n",
      " 5   Total Acres Burned              3067 non-null   float64\n",
      " 6   Equipment Involved in Ignition  3067 non-null   object \n",
      " 7   Total Injuries                  3067 non-null   int64  \n",
      " 8   Total Deaths                    3067 non-null   int64  \n",
      "dtypes: float64(2), int64(3), object(4)\n",
      "memory usage: 215.8+ KB\n"
     ]
    }
   ],
   "source": [
    "powerlines_fires.info() # Check the quality of the data – Not empty fields"
   ]
  },
  {
   "cell_type": "code",
   "execution_count": 349,
   "id": "b9a891cb-0a72-4de8-a834-355233b39d99",
   "metadata": {},
   "outputs": [
    {
     "data": {
      "text/html": [
       "<div>\n",
       "<style scoped>\n",
       "    .dataframe tbody tr th:only-of-type {\n",
       "        vertical-align: middle;\n",
       "    }\n",
       "\n",
       "    .dataframe tbody tr th {\n",
       "        vertical-align: top;\n",
       "    }\n",
       "\n",
       "    .dataframe thead th {\n",
       "        text-align: right;\n",
       "    }\n",
       "</style>\n",
       "<table border=\"1\" class=\"dataframe\">\n",
       "  <thead>\n",
       "    <tr style=\"text-align: right;\">\n",
       "      <th></th>\n",
       "      <th>FDID</th>\n",
       "      <th>Inc date</th>\n",
       "      <th>Inc Number</th>\n",
       "      <th>Address</th>\n",
       "      <th>Total Loss</th>\n",
       "      <th>Total Acres Burned</th>\n",
       "      <th>Equipment Involved in Ignition</th>\n",
       "      <th>Total Injuries</th>\n",
       "      <th>Total Deaths</th>\n",
       "    </tr>\n",
       "  </thead>\n",
       "  <tbody>\n",
       "    <tr>\n",
       "      <th>0</th>\n",
       "      <td>19110</td>\n",
       "      <td>01/14/2011</td>\n",
       "      <td>0010797</td>\n",
       "      <td>CORRAL CANYON  MALIBU 000000000</td>\n",
       "      <td>0.0</td>\n",
       "      <td>0.21</td>\n",
       "      <td>211 - Electrical power (utility) line.</td>\n",
       "      <td>0</td>\n",
       "      <td>0</td>\n",
       "    </tr>\n",
       "    <tr>\n",
       "      <th>1</th>\n",
       "      <td>37555</td>\n",
       "      <td>01/23/2011</td>\n",
       "      <td>864</td>\n",
       "      <td>Grove Rd  PAUMA_VALLEY 92061</td>\n",
       "      <td>0.0</td>\n",
       "      <td>0.10</td>\n",
       "      <td>211 - Electrical power (utility) line.</td>\n",
       "      <td>0</td>\n",
       "      <td>0</td>\n",
       "    </tr>\n",
       "    <tr>\n",
       "      <th>2</th>\n",
       "      <td>19030</td>\n",
       "      <td>01/28/2011</td>\n",
       "      <td>0005510</td>\n",
       "      <td>343 N CALIFORNIA ST Burbank 91505</td>\n",
       "      <td>500.0</td>\n",
       "      <td>0.01</td>\n",
       "      <td>211 - Electrical power (utility) line.</td>\n",
       "      <td>0</td>\n",
       "      <td>0</td>\n",
       "    </tr>\n",
       "  </tbody>\n",
       "</table>\n",
       "</div>"
      ],
      "text/plain": [
       "    FDID     Inc date Inc Number                            Address  \\\n",
       "0  19110   01/14/2011    0010797    CORRAL CANYON  MALIBU 000000000   \n",
       "1  37555   01/23/2011        864       Grove Rd  PAUMA_VALLEY 92061   \n",
       "2  19030   01/28/2011    0005510  343 N CALIFORNIA ST Burbank 91505   \n",
       "\n",
       "   Total Loss  Total Acres Burned          Equipment Involved in Ignition  \\\n",
       "0         0.0                0.21  211 - Electrical power (utility) line.   \n",
       "1         0.0                0.10  211 - Electrical power (utility) line.   \n",
       "2       500.0                0.01  211 - Electrical power (utility) line.   \n",
       "\n",
       "   Total Injuries  Total Deaths  \n",
       "0               0             0  \n",
       "1               0             0  \n",
       "2               0             0  "
      ]
     },
     "execution_count": 349,
     "metadata": {},
     "output_type": "execute_result"
    }
   ],
   "source": [
    "powerlines_fires.head(3) "
   ]
  },
  {
   "cell_type": "markdown",
   "id": "3203ed74-7f9b-4045-a61c-48a355b00d44",
   "metadata": {},
   "source": [
    "To make the database more handy, I have reformatted the column headings here:"
   ]
  },
  {
   "cell_type": "code",
   "execution_count": 351,
   "id": "77b65d6b-e229-4e13-8c82-4c841cd1cb13",
   "metadata": {},
   "outputs": [],
   "source": [
    "powerlines_fires_format = powerlines_fires.rename(columns={\"Inc date\": \"inc_date\", \"Address\": \"address\", \"Total Loss\": \"total_lost\", \"Total Acres Burned\": \"total_acres_burned\", \"Total Injuries\": \"total_injuries\", \"Total Deaths\": \"total_deaths\", \"Equipment Involved in Ignition\": \"equipment_involved_in_ignition\", \"Inc Number\": \"inc_number\"})"
   ]
  },
  {
   "cell_type": "markdown",
   "id": "6e643ad5-74d0-45fe-a456-db996a5e5368",
   "metadata": {},
   "source": [
    "In order to make my calculations per year, I need to reformate the field \"inc_date\":"
   ]
  },
  {
   "cell_type": "code",
   "execution_count": 352,
   "id": "097a2ccb-313a-44e4-8b2d-c7d18067fb2c",
   "metadata": {},
   "outputs": [],
   "source": [
    "powerlines_fires_format['year'] = pd.DatetimeIndex(powerlines_fires_format['inc_date']).year"
   ]
  },
  {
   "cell_type": "markdown",
   "id": "ddb1eb50-1cdb-4760-b76f-dbc00a8a621f",
   "metadata": {},
   "source": [
    "Reformating Data Types:"
   ]
  },
  {
   "cell_type": "code",
   "execution_count": 353,
   "id": "c7c27db6-650f-4df3-a30b-a0cf772f2323",
   "metadata": {},
   "outputs": [
    {
     "name": "stdout",
     "output_type": "stream",
     "text": [
      "<class 'pandas.core.frame.DataFrame'>\n",
      "RangeIndex: 3067 entries, 0 to 3066\n",
      "Data columns (total 10 columns):\n",
      " #   Column                          Non-Null Count  Dtype  \n",
      "---  ------                          --------------  -----  \n",
      " 0   FDID                            3067 non-null   int64  \n",
      " 1   inc_date                        3067 non-null   object \n",
      " 2   inc_number                      3067 non-null   object \n",
      " 3   address                         3067 non-null   object \n",
      " 4   total_lost                      3067 non-null   float64\n",
      " 5   total_acres_burned              3067 non-null   float64\n",
      " 6   equipment_involved_in_ignition  3067 non-null   object \n",
      " 7   total_injuries                  3067 non-null   int64  \n",
      " 8   total_deaths                    3067 non-null   int64  \n",
      " 9   year                            3067 non-null   int64  \n",
      "dtypes: float64(2), int64(4), object(4)\n",
      "memory usage: 239.7+ KB\n"
     ]
    }
   ],
   "source": [
    "powerlines_fires_format.info()"
   ]
  },
  {
   "cell_type": "markdown",
   "id": "d38499e0-ef03-4aec-9018-bb9b261c7b92",
   "metadata": {},
   "source": [
    "### Explore:\n",
    "- Which kind of equipment is mentioned in the database? \n",
    "- Which one of these equipment causes more incidents?"
   ]
  },
  {
   "cell_type": "code",
   "execution_count": 354,
   "id": "1f2989b6-4773-46d9-b6da-da626dd8cf2d",
   "metadata": {},
   "outputs": [
    {
     "data": {
      "text/html": [
       "<div>\n",
       "<style scoped>\n",
       "    .dataframe tbody tr th:only-of-type {\n",
       "        vertical-align: middle;\n",
       "    }\n",
       "\n",
       "    .dataframe tbody tr th {\n",
       "        vertical-align: top;\n",
       "    }\n",
       "\n",
       "    .dataframe thead th {\n",
       "        text-align: right;\n",
       "    }\n",
       "</style>\n",
       "<table border=\"1\" class=\"dataframe\">\n",
       "  <thead>\n",
       "    <tr style=\"text-align: right;\">\n",
       "      <th></th>\n",
       "      <th>index</th>\n",
       "      <th>equipment_involved_in_ignition</th>\n",
       "    </tr>\n",
       "  </thead>\n",
       "  <tbody>\n",
       "    <tr>\n",
       "      <th>0</th>\n",
       "      <td>211 - Electrical power (utility) line.</td>\n",
       "      <td>2536</td>\n",
       "    </tr>\n",
       "    <tr>\n",
       "      <th>1</th>\n",
       "      <td>212 - Electrical service supply wires.</td>\n",
       "      <td>324</td>\n",
       "    </tr>\n",
       "    <tr>\n",
       "      <th>2</th>\n",
       "      <td>221 - Transformer, distribution type.</td>\n",
       "      <td>170</td>\n",
       "    </tr>\n",
       "    <tr>\n",
       "      <th>3</th>\n",
       "      <td>223 - Transformer, low voltage.</td>\n",
       "      <td>37</td>\n",
       "    </tr>\n",
       "  </tbody>\n",
       "</table>\n",
       "</div>"
      ],
      "text/plain": [
       "                                    index  equipment_involved_in_ignition\n",
       "0  211 - Electrical power (utility) line.                            2536\n",
       "1  212 - Electrical service supply wires.                             324\n",
       "2   221 - Transformer, distribution type.                             170\n",
       "3         223 - Transformer, low voltage.                              37"
      ]
     },
     "execution_count": 354,
     "metadata": {},
     "output_type": "execute_result"
    }
   ],
   "source": [
    "powerlines_fires_format.equipment_involved_in_ignition.value_counts().reset_index() # Number of fires by \"equipment involved in ignition\""
   ]
  },
  {
   "cell_type": "markdown",
   "id": "fed11437-f9e6-4b4a-9606-6fcd0d7c7f92",
   "metadata": {},
   "source": [
    "- How many power lines related fires had ocurred per year?\n",
    "- What was the worst year? "
   ]
  },
  {
   "cell_type": "code",
   "execution_count": 355,
   "id": "eb0d2448-7c59-414d-b702-50880725e9ed",
   "metadata": {},
   "outputs": [],
   "source": [
    "fires_per_year = powerlines_fires_format.groupby('year').value_counts().to_frame(name = \"number_of_fires\").reset_index() # Create a new column with \"number of fires\" - Each row is one fire."
   ]
  },
  {
   "cell_type": "code",
   "execution_count": 356,
   "id": "4e7436d7-5fc2-4757-96be-34b321d57d1f",
   "metadata": {},
   "outputs": [
    {
     "data": {
      "text/html": [
       "<div>\n",
       "<style scoped>\n",
       "    .dataframe tbody tr th:only-of-type {\n",
       "        vertical-align: middle;\n",
       "    }\n",
       "\n",
       "    .dataframe tbody tr th {\n",
       "        vertical-align: top;\n",
       "    }\n",
       "\n",
       "    .dataframe thead th {\n",
       "        text-align: right;\n",
       "    }\n",
       "</style>\n",
       "<table border=\"1\" class=\"dataframe\">\n",
       "  <thead>\n",
       "    <tr style=\"text-align: right;\">\n",
       "      <th></th>\n",
       "      <th>year</th>\n",
       "      <th>FDID</th>\n",
       "      <th>inc_date</th>\n",
       "      <th>inc_number</th>\n",
       "      <th>address</th>\n",
       "      <th>total_lost</th>\n",
       "      <th>total_acres_burned</th>\n",
       "      <th>equipment_involved_in_ignition</th>\n",
       "      <th>total_injuries</th>\n",
       "      <th>total_deaths</th>\n",
       "      <th>number_of_fires</th>\n",
       "    </tr>\n",
       "  </thead>\n",
       "  <tbody>\n",
       "    <tr>\n",
       "      <th>0</th>\n",
       "      <td>2011</td>\n",
       "      <td>1008</td>\n",
       "      <td>06/23/2011</td>\n",
       "      <td>1115287</td>\n",
       "      <td>BRUNS RD  LIVERMORE 94550</td>\n",
       "      <td>0.0</td>\n",
       "      <td>5.0</td>\n",
       "      <td>211 - Electrical power (utility) line.</td>\n",
       "      <td>0</td>\n",
       "      <td>0</td>\n",
       "      <td>1</td>\n",
       "    </tr>\n",
       "  </tbody>\n",
       "</table>\n",
       "</div>"
      ],
      "text/plain": [
       "   year  FDID     inc_date inc_number                      address  \\\n",
       "0  2011  1008   06/23/2011    1115287    BRUNS RD  LIVERMORE 94550   \n",
       "\n",
       "   total_lost  total_acres_burned          equipment_involved_in_ignition  \\\n",
       "0         0.0                 5.0  211 - Electrical power (utility) line.   \n",
       "\n",
       "   total_injuries  total_deaths  number_of_fires  \n",
       "0               0             0                1  "
      ]
     },
     "execution_count": 356,
     "metadata": {},
     "output_type": "execute_result"
    }
   ],
   "source": [
    "fires_per_year.head(1)"
   ]
  },
  {
   "cell_type": "code",
   "execution_count": 357,
   "id": "f09fd382-52dd-4a91-a9cf-ea75f0fee40f",
   "metadata": {},
   "outputs": [],
   "source": [
    "calculation_fires_per_year = fires_per_year.groupby('year')['number_of_fires'].sum().to_frame(name = \"fires_per_year\").reset_index() "
   ]
  },
  {
   "cell_type": "code",
   "execution_count": 358,
   "id": "61352d2d-4569-44ee-b131-7b1970823222",
   "metadata": {},
   "outputs": [
    {
     "data": {
      "text/html": [
       "<div>\n",
       "<style scoped>\n",
       "    .dataframe tbody tr th:only-of-type {\n",
       "        vertical-align: middle;\n",
       "    }\n",
       "\n",
       "    .dataframe tbody tr th {\n",
       "        vertical-align: top;\n",
       "    }\n",
       "\n",
       "    .dataframe thead th {\n",
       "        text-align: right;\n",
       "    }\n",
       "</style>\n",
       "<table border=\"1\" class=\"dataframe\">\n",
       "  <thead>\n",
       "    <tr style=\"text-align: right;\">\n",
       "      <th></th>\n",
       "      <th>year</th>\n",
       "      <th>fires_per_year</th>\n",
       "    </tr>\n",
       "  </thead>\n",
       "  <tbody>\n",
       "    <tr>\n",
       "      <th>0</th>\n",
       "      <td>2011</td>\n",
       "      <td>214</td>\n",
       "    </tr>\n",
       "    <tr>\n",
       "      <th>1</th>\n",
       "      <td>2012</td>\n",
       "      <td>270</td>\n",
       "    </tr>\n",
       "    <tr>\n",
       "      <th>2</th>\n",
       "      <td>2013</td>\n",
       "      <td>296</td>\n",
       "    </tr>\n",
       "    <tr>\n",
       "      <th>3</th>\n",
       "      <td>2014</td>\n",
       "      <td>239</td>\n",
       "    </tr>\n",
       "    <tr>\n",
       "      <th>4</th>\n",
       "      <td>2015</td>\n",
       "      <td>228</td>\n",
       "    </tr>\n",
       "    <tr>\n",
       "      <th>5</th>\n",
       "      <td>2016</td>\n",
       "      <td>230</td>\n",
       "    </tr>\n",
       "    <tr>\n",
       "      <th>6</th>\n",
       "      <td>2017</td>\n",
       "      <td>328</td>\n",
       "    </tr>\n",
       "    <tr>\n",
       "      <th>7</th>\n",
       "      <td>2018</td>\n",
       "      <td>241</td>\n",
       "    </tr>\n",
       "    <tr>\n",
       "      <th>8</th>\n",
       "      <td>2019</td>\n",
       "      <td>424</td>\n",
       "    </tr>\n",
       "    <tr>\n",
       "      <th>9</th>\n",
       "      <td>2020</td>\n",
       "      <td>331</td>\n",
       "    </tr>\n",
       "    <tr>\n",
       "      <th>10</th>\n",
       "      <td>2021</td>\n",
       "      <td>266</td>\n",
       "    </tr>\n",
       "  </tbody>\n",
       "</table>\n",
       "</div>"
      ],
      "text/plain": [
       "    year  fires_per_year\n",
       "0   2011             214\n",
       "1   2012             270\n",
       "2   2013             296\n",
       "3   2014             239\n",
       "4   2015             228\n",
       "5   2016             230\n",
       "6   2017             328\n",
       "7   2018             241\n",
       "8   2019             424\n",
       "9   2020             331\n",
       "10  2021             266"
      ]
     },
     "execution_count": 358,
     "metadata": {},
     "output_type": "execute_result"
    }
   ],
   "source": [
    "calculation_fires_per_year.head(20) # Fires per year"
   ]
  },
  {
   "cell_type": "code",
   "execution_count": 401,
   "id": "a1fe859c-7b3e-4edd-aca9-990a29e8589f",
   "metadata": {},
   "outputs": [
    {
     "data": {
      "text/html": [
       "\n",
       "<div id=\"altair-viz-e8e1fbfc7d03460a84fe37e770b1dd8e\"></div>\n",
       "<script type=\"text/javascript\">\n",
       "  var VEGA_DEBUG = (typeof VEGA_DEBUG == \"undefined\") ? {} : VEGA_DEBUG;\n",
       "  (function(spec, embedOpt){\n",
       "    let outputDiv = document.currentScript.previousElementSibling;\n",
       "    if (outputDiv.id !== \"altair-viz-e8e1fbfc7d03460a84fe37e770b1dd8e\") {\n",
       "      outputDiv = document.getElementById(\"altair-viz-e8e1fbfc7d03460a84fe37e770b1dd8e\");\n",
       "    }\n",
       "    const paths = {\n",
       "      \"vega\": \"https://cdn.jsdelivr.net/npm//vega@5?noext\",\n",
       "      \"vega-lib\": \"https://cdn.jsdelivr.net/npm//vega-lib?noext\",\n",
       "      \"vega-lite\": \"https://cdn.jsdelivr.net/npm//vega-lite@4.17.0?noext\",\n",
       "      \"vega-embed\": \"https://cdn.jsdelivr.net/npm//vega-embed@6?noext\",\n",
       "    };\n",
       "\n",
       "    function maybeLoadScript(lib, version) {\n",
       "      var key = `${lib.replace(\"-\", \"\")}_version`;\n",
       "      return (VEGA_DEBUG[key] == version) ?\n",
       "        Promise.resolve(paths[lib]) :\n",
       "        new Promise(function(resolve, reject) {\n",
       "          var s = document.createElement('script');\n",
       "          document.getElementsByTagName(\"head\")[0].appendChild(s);\n",
       "          s.async = true;\n",
       "          s.onload = () => {\n",
       "            VEGA_DEBUG[key] = version;\n",
       "            return resolve(paths[lib]);\n",
       "          };\n",
       "          s.onerror = () => reject(`Error loading script: ${paths[lib]}`);\n",
       "          s.src = paths[lib];\n",
       "        });\n",
       "    }\n",
       "\n",
       "    function showError(err) {\n",
       "      outputDiv.innerHTML = `<div class=\"error\" style=\"color:red;\">${err}</div>`;\n",
       "      throw err;\n",
       "    }\n",
       "\n",
       "    function displayChart(vegaEmbed) {\n",
       "      vegaEmbed(outputDiv, spec, embedOpt)\n",
       "        .catch(err => showError(`Javascript Error: ${err.message}<br>This usually means there's a typo in your chart specification. See the javascript console for the full traceback.`));\n",
       "    }\n",
       "\n",
       "    if(typeof define === \"function\" && define.amd) {\n",
       "      requirejs.config({paths});\n",
       "      require([\"vega-embed\"], displayChart, err => showError(`Error loading script: ${err.message}`));\n",
       "    } else {\n",
       "      maybeLoadScript(\"vega\", \"5\")\n",
       "        .then(() => maybeLoadScript(\"vega-lite\", \"4.17.0\"))\n",
       "        .then(() => maybeLoadScript(\"vega-embed\", \"6\"))\n",
       "        .catch(showError)\n",
       "        .then(() => displayChart(vegaEmbed));\n",
       "    }\n",
       "  })({\"config\": {\"view\": {\"continuousWidth\": 400, \"continuousHeight\": 300}}, \"data\": {\"name\": \"data-7a7b8d0ec3fe3cbc04a8a3029ff15c87\"}, \"mark\": {\"type\": \"bar\", \"size\": 20}, \"encoding\": {\"color\": {\"condition\": {\"value\": \"orange\", \"test\": \"(datum.year === 2019)\"}, \"value\": \"steelblue\"}, \"x\": {\"field\": \"year\", \"type\": \"quantitative\"}, \"y\": {\"field\": \"fires_per_year\", \"type\": \"quantitative\"}}, \"title\": \"Incidents per Year\", \"$schema\": \"https://vega.github.io/schema/vega-lite/v4.17.0.json\", \"datasets\": {\"data-7a7b8d0ec3fe3cbc04a8a3029ff15c87\": [{\"year\": 2011, \"fires_per_year\": 214}, {\"year\": 2012, \"fires_per_year\": 270}, {\"year\": 2013, \"fires_per_year\": 296}, {\"year\": 2014, \"fires_per_year\": 239}, {\"year\": 2015, \"fires_per_year\": 228}, {\"year\": 2016, \"fires_per_year\": 230}, {\"year\": 2017, \"fires_per_year\": 328}, {\"year\": 2018, \"fires_per_year\": 241}, {\"year\": 2019, \"fires_per_year\": 424}, {\"year\": 2020, \"fires_per_year\": 331}, {\"year\": 2021, \"fires_per_year\": 266}]}}, {\"mode\": \"vega-lite\"});\n",
       "</script>"
      ],
      "text/plain": [
       "alt.Chart(...)"
      ]
     },
     "execution_count": 401,
     "metadata": {},
     "output_type": "execute_result"
    }
   ],
   "source": [
    "alt.Chart(calculation_fires_per_year).mark_bar(size=20).encode(\n",
    "    x = \"year\", \n",
    "    y= \"fires_per_year\", \n",
    "    color = alt.condition(\n",
    "        alt.datum.year == 2019, \n",
    "        alt.value('orange'), \n",
    "        alt.value('steelblue')\n",
    "    )\n",
    ").properties(title=\"Incidents per Year\")"
   ]
  },
  {
   "cell_type": "markdown",
   "id": "19280b72-390a-4e3f-86ba-f1c8b25196b9",
   "metadata": {},
   "source": [
    "Explore the damage caused annually by fires related to power lines:"
   ]
  },
  {
   "cell_type": "code",
   "execution_count": 370,
   "id": "f8f0c584-02c7-4231-bef0-cf351de801e1",
   "metadata": {},
   "outputs": [],
   "source": [
    "damages_per_year = powerlines_fires_format.groupby(\"year\").agg({'total_lost':'sum', 'total_acres_burned':'sum', 'total_injuries': 'sum', 'total_deaths': 'sum'}).reset_index()."
   ]
  },
  {
   "cell_type": "code",
   "execution_count": 372,
   "id": "5bc2d762-ea7a-49fe-8452-21e3c93ddd73",
   "metadata": {},
   "outputs": [
    {
     "name": "stdout",
     "output_type": "stream",
     "text": [
      "<class 'pandas.core.frame.DataFrame'>\n",
      "RangeIndex: 10 entries, 0 to 9\n",
      "Data columns (total 5 columns):\n",
      " #   Column              Non-Null Count  Dtype  \n",
      "---  ------              --------------  -----  \n",
      " 0   year                10 non-null     int64  \n",
      " 1   total_lost          10 non-null     float64\n",
      " 2   total_acres_burned  10 non-null     float64\n",
      " 3   total_injuries      10 non-null     int64  \n",
      " 4   total_deaths        10 non-null     int64  \n",
      "dtypes: float64(2), int64(3)\n",
      "memory usage: 528.0 bytes\n"
     ]
    }
   ],
   "source": [
    "damages_per_year.info() # Check that there is not errors"
   ]
  },
  {
   "cell_type": "code",
   "execution_count": 382,
   "id": "5bfc4be8-f01c-48d5-a68c-79869817f677",
   "metadata": {},
   "outputs": [],
   "source": [
    "pd.set_option('display.float_format', lambda x: '%.5f' % x) # To format Pandas scientific notation for floats"
   ]
  },
  {
   "cell_type": "code",
   "execution_count": 383,
   "id": "40b9d4c9-913c-435f-bcc8-02106bcc4faa",
   "metadata": {},
   "outputs": [
    {
     "data": {
      "text/html": [
       "<div>\n",
       "<style scoped>\n",
       "    .dataframe tbody tr th:only-of-type {\n",
       "        vertical-align: middle;\n",
       "    }\n",
       "\n",
       "    .dataframe tbody tr th {\n",
       "        vertical-align: top;\n",
       "    }\n",
       "\n",
       "    .dataframe thead th {\n",
       "        text-align: right;\n",
       "    }\n",
       "</style>\n",
       "<table border=\"1\" class=\"dataframe\">\n",
       "  <thead>\n",
       "    <tr style=\"text-align: right;\">\n",
       "      <th></th>\n",
       "      <th>year</th>\n",
       "      <th>total_lost</th>\n",
       "      <th>total_acres_burned</th>\n",
       "      <th>total_injuries</th>\n",
       "      <th>total_deaths</th>\n",
       "    </tr>\n",
       "  </thead>\n",
       "  <tbody>\n",
       "    <tr>\n",
       "      <th>0</th>\n",
       "      <td>2011</td>\n",
       "      <td>288074.00000</td>\n",
       "      <td>1231.82000</td>\n",
       "      <td>0</td>\n",
       "      <td>0</td>\n",
       "    </tr>\n",
       "    <tr>\n",
       "      <th>1</th>\n",
       "      <td>2012</td>\n",
       "      <td>244772.00000</td>\n",
       "      <td>641.30000</td>\n",
       "      <td>2</td>\n",
       "      <td>0</td>\n",
       "    </tr>\n",
       "    <tr>\n",
       "      <th>2</th>\n",
       "      <td>2013</td>\n",
       "      <td>454817.00000</td>\n",
       "      <td>1834.79000</td>\n",
       "      <td>3</td>\n",
       "      <td>0</td>\n",
       "    </tr>\n",
       "    <tr>\n",
       "      <th>3</th>\n",
       "      <td>2014</td>\n",
       "      <td>205531.00000</td>\n",
       "      <td>977.87000</td>\n",
       "      <td>1</td>\n",
       "      <td>0</td>\n",
       "    </tr>\n",
       "    <tr>\n",
       "      <th>4</th>\n",
       "      <td>2015</td>\n",
       "      <td>26343101.00000</td>\n",
       "      <td>133017.73000</td>\n",
       "      <td>2</td>\n",
       "      <td>0</td>\n",
       "    </tr>\n",
       "    <tr>\n",
       "      <th>5</th>\n",
       "      <td>2016</td>\n",
       "      <td>125367.00000</td>\n",
       "      <td>404.37000</td>\n",
       "      <td>0</td>\n",
       "      <td>0</td>\n",
       "    </tr>\n",
       "    <tr>\n",
       "      <th>6</th>\n",
       "      <td>2017</td>\n",
       "      <td>139719778.00000</td>\n",
       "      <td>228884.33000</td>\n",
       "      <td>1</td>\n",
       "      <td>44</td>\n",
       "    </tr>\n",
       "    <tr>\n",
       "      <th>7</th>\n",
       "      <td>2018</td>\n",
       "      <td>2000615493.00000</td>\n",
       "      <td>154759.97000</td>\n",
       "      <td>2</td>\n",
       "      <td>86</td>\n",
       "    </tr>\n",
       "    <tr>\n",
       "      <th>8</th>\n",
       "      <td>2019</td>\n",
       "      <td>389488747.00000</td>\n",
       "      <td>86469.42000</td>\n",
       "      <td>7</td>\n",
       "      <td>0</td>\n",
       "    </tr>\n",
       "    <tr>\n",
       "      <th>9</th>\n",
       "      <td>2020</td>\n",
       "      <td>977878.00000</td>\n",
       "      <td>23260.55000</td>\n",
       "      <td>6</td>\n",
       "      <td>1</td>\n",
       "    </tr>\n",
       "  </tbody>\n",
       "</table>\n",
       "</div>"
      ],
      "text/plain": [
       "   year       total_lost  total_acres_burned  total_injuries  total_deaths\n",
       "0  2011     288074.00000          1231.82000               0             0\n",
       "1  2012     244772.00000           641.30000               2             0\n",
       "2  2013     454817.00000          1834.79000               3             0\n",
       "3  2014     205531.00000           977.87000               1             0\n",
       "4  2015   26343101.00000        133017.73000               2             0\n",
       "5  2016     125367.00000           404.37000               0             0\n",
       "6  2017  139719778.00000        228884.33000               1            44\n",
       "7  2018 2000615493.00000        154759.97000               2            86\n",
       "8  2019  389488747.00000         86469.42000               7             0\n",
       "9  2020     977878.00000         23260.55000               6             1"
      ]
     },
     "execution_count": 383,
     "metadata": {},
     "output_type": "execute_result"
    }
   ],
   "source": [
    "damages_per_year.head(10)"
   ]
  },
  {
   "cell_type": "code",
   "execution_count": 399,
   "id": "d0d38886-44f5-4fbd-9596-4ff3d752a42f",
   "metadata": {},
   "outputs": [
    {
     "data": {
      "text/html": [
       "\n",
       "<div id=\"altair-viz-89f3bb7357d140dbbc4381b27a1d3771\"></div>\n",
       "<script type=\"text/javascript\">\n",
       "  var VEGA_DEBUG = (typeof VEGA_DEBUG == \"undefined\") ? {} : VEGA_DEBUG;\n",
       "  (function(spec, embedOpt){\n",
       "    let outputDiv = document.currentScript.previousElementSibling;\n",
       "    if (outputDiv.id !== \"altair-viz-89f3bb7357d140dbbc4381b27a1d3771\") {\n",
       "      outputDiv = document.getElementById(\"altair-viz-89f3bb7357d140dbbc4381b27a1d3771\");\n",
       "    }\n",
       "    const paths = {\n",
       "      \"vega\": \"https://cdn.jsdelivr.net/npm//vega@5?noext\",\n",
       "      \"vega-lib\": \"https://cdn.jsdelivr.net/npm//vega-lib?noext\",\n",
       "      \"vega-lite\": \"https://cdn.jsdelivr.net/npm//vega-lite@4.17.0?noext\",\n",
       "      \"vega-embed\": \"https://cdn.jsdelivr.net/npm//vega-embed@6?noext\",\n",
       "    };\n",
       "\n",
       "    function maybeLoadScript(lib, version) {\n",
       "      var key = `${lib.replace(\"-\", \"\")}_version`;\n",
       "      return (VEGA_DEBUG[key] == version) ?\n",
       "        Promise.resolve(paths[lib]) :\n",
       "        new Promise(function(resolve, reject) {\n",
       "          var s = document.createElement('script');\n",
       "          document.getElementsByTagName(\"head\")[0].appendChild(s);\n",
       "          s.async = true;\n",
       "          s.onload = () => {\n",
       "            VEGA_DEBUG[key] = version;\n",
       "            return resolve(paths[lib]);\n",
       "          };\n",
       "          s.onerror = () => reject(`Error loading script: ${paths[lib]}`);\n",
       "          s.src = paths[lib];\n",
       "        });\n",
       "    }\n",
       "\n",
       "    function showError(err) {\n",
       "      outputDiv.innerHTML = `<div class=\"error\" style=\"color:red;\">${err}</div>`;\n",
       "      throw err;\n",
       "    }\n",
       "\n",
       "    function displayChart(vegaEmbed) {\n",
       "      vegaEmbed(outputDiv, spec, embedOpt)\n",
       "        .catch(err => showError(`Javascript Error: ${err.message}<br>This usually means there's a typo in your chart specification. See the javascript console for the full traceback.`));\n",
       "    }\n",
       "\n",
       "    if(typeof define === \"function\" && define.amd) {\n",
       "      requirejs.config({paths});\n",
       "      require([\"vega-embed\"], displayChart, err => showError(`Error loading script: ${err.message}`));\n",
       "    } else {\n",
       "      maybeLoadScript(\"vega\", \"5\")\n",
       "        .then(() => maybeLoadScript(\"vega-lite\", \"4.17.0\"))\n",
       "        .then(() => maybeLoadScript(\"vega-embed\", \"6\"))\n",
       "        .catch(showError)\n",
       "        .then(() => displayChart(vegaEmbed));\n",
       "    }\n",
       "  })({\"config\": {\"view\": {\"continuousWidth\": 400, \"continuousHeight\": 300}}, \"data\": {\"name\": \"data-139505904a74c5d0a158fa18522b5be4\"}, \"mark\": {\"type\": \"bar\", \"size\": 20}, \"encoding\": {\"color\": {\"condition\": {\"value\": \"orange\", \"test\": \"(datum.year === 2017)\"}, \"value\": \"steelblue\"}, \"x\": {\"field\": \"year\", \"type\": \"quantitative\"}, \"y\": {\"field\": \"total_acres_burned\", \"type\": \"quantitative\"}}, \"title\": \"Acres Burned per Year\", \"width\": 300, \"$schema\": \"https://vega.github.io/schema/vega-lite/v4.17.0.json\", \"datasets\": {\"data-139505904a74c5d0a158fa18522b5be4\": [{\"year\": 2011, \"total_lost\": 288074.0, \"total_acres_burned\": 1231.82, \"total_injuries\": 0, \"total_deaths\": 0}, {\"year\": 2012, \"total_lost\": 244772.0, \"total_acres_burned\": 641.3, \"total_injuries\": 2, \"total_deaths\": 0}, {\"year\": 2013, \"total_lost\": 454817.0, \"total_acres_burned\": 1834.79, \"total_injuries\": 3, \"total_deaths\": 0}, {\"year\": 2014, \"total_lost\": 205531.0, \"total_acres_burned\": 977.87, \"total_injuries\": 1, \"total_deaths\": 0}, {\"year\": 2015, \"total_lost\": 26343101.0, \"total_acres_burned\": 133017.73, \"total_injuries\": 2, \"total_deaths\": 0}, {\"year\": 2016, \"total_lost\": 125367.0, \"total_acres_burned\": 404.37, \"total_injuries\": 0, \"total_deaths\": 0}, {\"year\": 2017, \"total_lost\": 139719778.0, \"total_acres_burned\": 228884.33000000002, \"total_injuries\": 1, \"total_deaths\": 44}, {\"year\": 2018, \"total_lost\": 2000615493.0, \"total_acres_burned\": 154759.97, \"total_injuries\": 2, \"total_deaths\": 86}, {\"year\": 2019, \"total_lost\": 389488747.0, \"total_acres_burned\": 86469.42, \"total_injuries\": 7, \"total_deaths\": 0}, {\"year\": 2020, \"total_lost\": 977878.0, \"total_acres_burned\": 23260.55, \"total_injuries\": 6, \"total_deaths\": 1}]}}, {\"mode\": \"vega-lite\"});\n",
       "</script>"
      ],
      "text/plain": [
       "alt.Chart(...)"
      ]
     },
     "execution_count": 399,
     "metadata": {},
     "output_type": "execute_result"
    }
   ],
   "source": [
    "alt.Chart(damages_per_year).mark_bar(size=20).encode(\n",
    "    x = \"year\", \n",
    "    y= \"total_acres_burned\", \n",
    "    color = alt.condition(\n",
    "                alt.datum.year == 2017, \n",
    "                alt.value('orange'), \n",
    "                alt.value('steelblue')\n",
    "        )\n",
    ").properties(width=300, title=\"Acres Burned per Year\")"
   ]
  },
  {
   "cell_type": "code",
   "execution_count": 403,
   "id": "6a1bf7af-acf7-4ce0-a6a9-de714ea50d7d",
   "metadata": {},
   "outputs": [
    {
     "data": {
      "text/html": [
       "\n",
       "<div id=\"altair-viz-712567460d0a46fe98ac2e86d8176658\"></div>\n",
       "<script type=\"text/javascript\">\n",
       "  var VEGA_DEBUG = (typeof VEGA_DEBUG == \"undefined\") ? {} : VEGA_DEBUG;\n",
       "  (function(spec, embedOpt){\n",
       "    let outputDiv = document.currentScript.previousElementSibling;\n",
       "    if (outputDiv.id !== \"altair-viz-712567460d0a46fe98ac2e86d8176658\") {\n",
       "      outputDiv = document.getElementById(\"altair-viz-712567460d0a46fe98ac2e86d8176658\");\n",
       "    }\n",
       "    const paths = {\n",
       "      \"vega\": \"https://cdn.jsdelivr.net/npm//vega@5?noext\",\n",
       "      \"vega-lib\": \"https://cdn.jsdelivr.net/npm//vega-lib?noext\",\n",
       "      \"vega-lite\": \"https://cdn.jsdelivr.net/npm//vega-lite@4.17.0?noext\",\n",
       "      \"vega-embed\": \"https://cdn.jsdelivr.net/npm//vega-embed@6?noext\",\n",
       "    };\n",
       "\n",
       "    function maybeLoadScript(lib, version) {\n",
       "      var key = `${lib.replace(\"-\", \"\")}_version`;\n",
       "      return (VEGA_DEBUG[key] == version) ?\n",
       "        Promise.resolve(paths[lib]) :\n",
       "        new Promise(function(resolve, reject) {\n",
       "          var s = document.createElement('script');\n",
       "          document.getElementsByTagName(\"head\")[0].appendChild(s);\n",
       "          s.async = true;\n",
       "          s.onload = () => {\n",
       "            VEGA_DEBUG[key] = version;\n",
       "            return resolve(paths[lib]);\n",
       "          };\n",
       "          s.onerror = () => reject(`Error loading script: ${paths[lib]}`);\n",
       "          s.src = paths[lib];\n",
       "        });\n",
       "    }\n",
       "\n",
       "    function showError(err) {\n",
       "      outputDiv.innerHTML = `<div class=\"error\" style=\"color:red;\">${err}</div>`;\n",
       "      throw err;\n",
       "    }\n",
       "\n",
       "    function displayChart(vegaEmbed) {\n",
       "      vegaEmbed(outputDiv, spec, embedOpt)\n",
       "        .catch(err => showError(`Javascript Error: ${err.message}<br>This usually means there's a typo in your chart specification. See the javascript console for the full traceback.`));\n",
       "    }\n",
       "\n",
       "    if(typeof define === \"function\" && define.amd) {\n",
       "      requirejs.config({paths});\n",
       "      require([\"vega-embed\"], displayChart, err => showError(`Error loading script: ${err.message}`));\n",
       "    } else {\n",
       "      maybeLoadScript(\"vega\", \"5\")\n",
       "        .then(() => maybeLoadScript(\"vega-lite\", \"4.17.0\"))\n",
       "        .then(() => maybeLoadScript(\"vega-embed\", \"6\"))\n",
       "        .catch(showError)\n",
       "        .then(() => displayChart(vegaEmbed));\n",
       "    }\n",
       "  })({\"config\": {\"view\": {\"continuousWidth\": 400, \"continuousHeight\": 300}}, \"data\": {\"name\": \"data-139505904a74c5d0a158fa18522b5be4\"}, \"mark\": {\"type\": \"bar\", \"size\": 20}, \"encoding\": {\"color\": {\"condition\": {\"value\": \"orange\", \"test\": \"(datum.year === 2018)\"}, \"value\": \"steelblue\"}, \"x\": {\"field\": \"year\", \"type\": \"quantitative\"}, \"y\": {\"field\": \"total_lost\", \"type\": \"quantitative\"}}, \"title\": \"Total Lost\", \"width\": 300, \"$schema\": \"https://vega.github.io/schema/vega-lite/v4.17.0.json\", \"datasets\": {\"data-139505904a74c5d0a158fa18522b5be4\": [{\"year\": 2011, \"total_lost\": 288074.0, \"total_acres_burned\": 1231.82, \"total_injuries\": 0, \"total_deaths\": 0}, {\"year\": 2012, \"total_lost\": 244772.0, \"total_acres_burned\": 641.3, \"total_injuries\": 2, \"total_deaths\": 0}, {\"year\": 2013, \"total_lost\": 454817.0, \"total_acres_burned\": 1834.79, \"total_injuries\": 3, \"total_deaths\": 0}, {\"year\": 2014, \"total_lost\": 205531.0, \"total_acres_burned\": 977.87, \"total_injuries\": 1, \"total_deaths\": 0}, {\"year\": 2015, \"total_lost\": 26343101.0, \"total_acres_burned\": 133017.73, \"total_injuries\": 2, \"total_deaths\": 0}, {\"year\": 2016, \"total_lost\": 125367.0, \"total_acres_burned\": 404.37, \"total_injuries\": 0, \"total_deaths\": 0}, {\"year\": 2017, \"total_lost\": 139719778.0, \"total_acres_burned\": 228884.33000000002, \"total_injuries\": 1, \"total_deaths\": 44}, {\"year\": 2018, \"total_lost\": 2000615493.0, \"total_acres_burned\": 154759.97, \"total_injuries\": 2, \"total_deaths\": 86}, {\"year\": 2019, \"total_lost\": 389488747.0, \"total_acres_burned\": 86469.42, \"total_injuries\": 7, \"total_deaths\": 0}, {\"year\": 2020, \"total_lost\": 977878.0, \"total_acres_burned\": 23260.55, \"total_injuries\": 6, \"total_deaths\": 1}]}}, {\"mode\": \"vega-lite\"});\n",
       "</script>"
      ],
      "text/plain": [
       "alt.Chart(...)"
      ]
     },
     "execution_count": 403,
     "metadata": {},
     "output_type": "execute_result"
    }
   ],
   "source": [
    "alt.Chart(damages_per_year).mark_bar(size=20).encode(\n",
    "    x = \"year\", \n",
    "    y= \"total_lost\", \n",
    "    color = alt.condition(\n",
    "                alt.datum.year == 2018, \n",
    "                alt.value('orange'), \n",
    "                alt.value('steelblue')\n",
    "        )\n",
    ").properties(width=300, title=\"Total Lost\")"
   ]
  }
 ],
 "metadata": {
  "kernelspec": {
   "display_name": "Python 3 (ipykernel)",
   "language": "python",
   "name": "python3"
  },
  "language_info": {
   "codemirror_mode": {
    "name": "ipython",
    "version": 3
   },
   "file_extension": ".py",
   "mimetype": "text/x-python",
   "name": "python",
   "nbconvert_exporter": "python",
   "pygments_lexer": "ipython3",
   "version": "3.9.9"
  }
 },
 "nbformat": 4,
 "nbformat_minor": 5
}
